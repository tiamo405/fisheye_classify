{
 "cells": [
  {
   "cell_type": "code",
   "execution_count": 4,
   "metadata": {},
   "outputs": [],
   "source": [
    "import onnxruntime as rt\n",
    "import argparse\n",
    "from imutils import paths\n",
    "import cv2\n",
    "import os\n",
    "import sys\n",
    "import matplotlib.pyplot as plt\n",
    "import numpy as np\n",
    "import torch\n",
    "from torchvision import transforms\n",
    "from PIL import Image"
   ]
  },
  {
   "cell_type": "code",
   "execution_count": 5,
   "metadata": {},
   "outputs": [],
   "source": [
    "runID = \"66a5e35cfbde4006bda9e3325e4a4ae8\"\n",
    "image_shape = [224, 224]\n",
    "threshold = 0.85\n",
    "mean = np.array([0.485, 0.456, 0.406])\n",
    "std = np.array([0.229, 0.224, 0.225])"
   ]
  },
  {
   "cell_type": "code",
   "execution_count": 6,
   "metadata": {},
   "outputs": [],
   "source": [
    "test_transforms = transforms.Compose(\n",
    "\t[\n",
    "\t\ttransforms.Resize([224, 224]),\n",
    "\t\ttransforms.ToTensor(),\n",
    "\t\ttransforms.Normalize(mean, std),\n",
    "\t]\n",
    ")"
   ]
  },
  {
   "cell_type": "code",
   "execution_count": 11,
   "metadata": {},
   "outputs": [
    {
     "name": "stdout",
     "output_type": "stream",
     "text": [
      "====INPUT====\n",
      "Name: input, Shape: ['batch', 3, 224, 224], Dtype: tensor(float)\n",
      "====OUTPUT====\n",
      "Name: output, Shape: ['batch', 2], Dtype: tensor(float)\n"
     ]
    }
   ],
   "source": [
    "# onnx_model = f\"mlruns/{opt.runID}/artifacts/model/data/last.onnx\"\n",
    "onnx_model = \"mlruns/66a5e35cfbde4006bda9e3325e4a4ae8/artifacts/model/data/last.onnx\"\n",
    "sess = rt.InferenceSession(onnx_model)\n",
    "print(\"====INPUT====\")\n",
    "for i in sess.get_inputs():\n",
    "\tprint(f\"Name: {i.name}, Shape: {i.shape}, Dtype: {i.type}\")\n",
    "print(\"====OUTPUT====\")\n",
    "for i in sess.get_outputs():\n",
    "\tprint(f\"Name: {i.name}, Shape: {i.shape}, Dtype: {i.type}\")"
   ]
  },
  {
   "cell_type": "code",
   "execution_count": 12,
   "metadata": {},
   "outputs": [
    {
     "name": "stdout",
     "output_type": "stream",
     "text": [
      "Total Accuracy = 98.54\n",
      "Staff Accuracy = 98.53\n",
      "Customer Accuracy = 98.56\n"
     ]
    }
   ],
   "source": [
    "imagePaths = sorted(list(paths.list_images(\"../datasets/customer_staff_20220816\")))\n",
    "\n",
    "correct = 0\n",
    "staff_correct = 0\n",
    "customer_correct = 0\n",
    "total_sample = len(imagePaths)\n",
    "total_staff = 0\n",
    "total_customer = 0\n",
    "\n",
    "for i in range(total_sample):\n",
    "\ttrue_label = imagePaths[i].split(\"/\")[-2]\n",
    "\tif true_label == \"staff\":\n",
    "\t\ttotal_staff += 1\n",
    "\telif true_label == \"customer\":\n",
    "\t\ttotal_customer += 1\n",
    "\tori = cv2.imread(imagePaths[i])\n",
    "\timg = Image.fromarray(cv2.cvtColor(ori, cv2.COLOR_BGR2RGB))\n",
    "\timg = test_transforms(img)\n",
    "\tif img.ndimension() == 3:\n",
    "\t\timg = torch.unsqueeze(img, 0)\n",
    "\n",
    "\tpred = sess.run(None, {\"input\": img.numpy()})[0][0].tolist()\n",
    "\tpred_label = \"customer\"\n",
    "\tscore = pred[0]\n",
    "\tif pred[1] > threshold:\n",
    "\t\tpred_label = \"staff\"\n",
    "\t\tscore = pred[1]\n",
    "\n",
    "\tif true_label == pred_label:\n",
    "\t\tcorrect += 1\n",
    "\n",
    "\tif true_label == pred_label == \"staff\":\n",
    "\t\tstaff_correct += 1\n",
    "\tif true_label == pred_label == \"customer\":\n",
    "\t\tcustomer_correct += 1\n",
    "\n",
    "\t# plt.title(f\"{label}_{score}\")\n",
    "\t# plt.imshow(ori)\n",
    "\t# plt.show()\n",
    "\n",
    "accuracy = round((correct / total_sample)*100, 2)\n",
    "staff_accuracy = round((staff_correct / total_staff)*100, 2)\n",
    "customer_accuracy = round((customer_correct / total_customer)*100, 2)\n",
    "print(f\"Total Accuracy = {accuracy}%\")\n",
    "print(f\"Staff Accuracy = {staff_accuracy}%\")\n",
    "print(f\"Customer Accuracy = {customer_accuracy}%\")"
   ]
  }
 ],
 "metadata": {
  "kernelspec": {
   "display_name": "Python 3.8.10 ('mlops')",
   "language": "python",
   "name": "python3"
  },
  "language_info": {
   "codemirror_mode": {
    "name": "ipython",
    "version": 3
   },
   "file_extension": ".py",
   "mimetype": "text/x-python",
   "name": "python",
   "nbconvert_exporter": "python",
   "pygments_lexer": "ipython3",
   "version": "3.8.10"
  },
  "orig_nbformat": 4,
  "vscode": {
   "interpreter": {
    "hash": "43bcce894646dcc350d2a07c35da9e3446cb15af1c81467ce0890e5995b2a314"
   }
  }
 },
 "nbformat": 4,
 "nbformat_minor": 2
}
